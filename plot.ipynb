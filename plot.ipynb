{
 "cells": [
  {
   "cell_type": "code",
   "execution_count": 1,
   "id": "cd1f4c1c",
   "metadata": {},
   "outputs": [],
   "source": [
    "import mplhep as hep\n",
    "import matplotlib.pyplot as plt\n",
    "import matplotlib as mpl\n",
    "import polars as pl\n",
    "import scienceplots\n",
    "from pathlib import Path\n",
    "import re\n",
    "from typing import Tuple, Dict\n",
    "\n",
    "import helper\n",
    "\n",
    "%matplotlib inline\n",
    "%config InlineBackend.figure_format='retina' # Optional\n",
    "\n",
    "plt.rcParams[\"figure.dpi\"] = \"100\"\n",
    "hep.style.use(\"CMSTex\")\n",
    "plt.style.use([\"science\"])\n",
    "mpl.rc(\"text\", usetex=True)\n",
    "mpl.rc(\"font\", size=16)\n",
    "mpl.rc(\"legend\", fontsize=16)\n",
    "mpl.rc(\"text.latex\", preamble=r\"\\usepackage{lmodern} \\usepackage{amsmath}\")\n"
   ]
  },
  {
   "cell_type": "code",
   "execution_count": 2,
   "id": "a84005df",
   "metadata": {},
   "outputs": [
    {
     "data": {
      "text/plain": [
       "<module 'helper' from '/Users/mathieuouillon/Documents/Python/background_merging_plot/helper.py'>"
      ]
     },
     "execution_count": 2,
     "metadata": {},
     "output_type": "execute_result"
    }
   ],
   "source": [
    "# reload helper module if modification are made\n",
    "import importlib\n",
    "importlib.reload(helper)"
   ]
  },
  {
   "cell_type": "code",
   "execution_count": 3,
   "id": "ded79446",
   "metadata": {},
   "outputs": [],
   "source": [
    "helper.plot_comparison(\n",
    "    path1=\"data/IBLD2Den\",\n",
    "    path2=\"data/IBLD2NoDen\",\n",
    "    label1=\"Den\",\n",
    "    label2=\"NoDen\",\n",
    "    title=\"Comparison of IBLD2 Den and NoDen\",\n",
    "    save_name=\"plots/comparison_IBLD2_Den_NoDen\",\n",
    ")"
   ]
  },
  {
   "cell_type": "code",
   "execution_count": 4,
   "id": "9d1e9459",
   "metadata": {},
   "outputs": [],
   "source": [
    "helper.plot_comparison(\n",
    "    path1=\"data/OBLD2NoDenMO\",\n",
    "    path2=\"data/OBLD2NoDenDM\",\n",
    "    label1=\"MO\",\n",
    "    label2=\"DM\",\n",
    "    title=\"Comparison of OBLD2 NoDen MO and DM\",\n",
    "    save_name=\"plots/comparison_OBLD2NoDen_MO_DM\",\n",
    ")"
   ]
  },
  {
   "cell_type": "code",
   "execution_count": 5,
   "id": "838a0439",
   "metadata": {},
   "outputs": [],
   "source": [
    "helper.plot_comparison(\n",
    "    path1=\"data/OBLD2NoDenMO_no5nA\",\n",
    "    path2=\"data/OBLD2NoDenDM_no5nA\",\n",
    "    label1=\"MO\",\n",
    "    label2=\"DM\",\n",
    "    title=\"Comparison of OBLD2 NoDen MO and DM - Excluding 5nA\",\n",
    "    save_name=\"plots/comparison_OBLD2NoDen_MO_DM_no5nA\",\n",
    ")"
   ]
  },
  {
   "cell_type": "code",
   "execution_count": 6,
   "id": "d6f93a4b",
   "metadata": {},
   "outputs": [],
   "source": [
    "helper.plot_comparison(\n",
    "    path1=\"data/OBLD2NoDenDM\",\n",
    "    path2=\"data/OBLD2Den\",\n",
    "    label1=\"NoDen\",\n",
    "    label2= \"Den\",\n",
    "    title=\"Comparison of OBLD2 NoDen and Den\",\n",
    "    save_name=\"plots/comparison_OBLD2_NoDen_Den\",\n",
    ")"
   ]
  },
  {
   "cell_type": "code",
   "execution_count": 7,
   "id": "6492e464",
   "metadata": {},
   "outputs": [],
   "source": [
    "helper.plot_comparison(\n",
    "    path1=\"data/IBLD2Den\",\n",
    "    path2=\"data/OBLD2Den\",\n",
    "    label1=\"IB\",\n",
    "    label2=\"OB\",\n",
    "    title=\"Comparison of LD2 Den IB and OB\",\n",
    "    save_name=\"plots/comparison_LD2Den_IB_OB\",\n",
    ")"
   ]
  },
  {
   "cell_type": "code",
   "execution_count": 8,
   "id": "187e55a1",
   "metadata": {},
   "outputs": [],
   "source": [
    "helper.plot_comparison(\n",
    "    path1=\"data/IBLD2NoDen\",\n",
    "    path2=\"data/OBLD2NoDenDM\",\n",
    "    label1=\"IB\",\n",
    "    label2=\"OB\",\n",
    "    title=\"Comparison of LD2 No Den IB and OB\",\n",
    "    save_name=\"plots/comparison_LD2NoDen_IB_OB\",\n",
    ")"
   ]
  },
  {
   "cell_type": "code",
   "execution_count": 9,
   "id": "3a54a87f",
   "metadata": {},
   "outputs": [],
   "source": [
    "helper.plot_comparison(\n",
    "    path1=\"data/IBLD2NoDen\",\n",
    "    path2=\"data/IBLD2Den\",\n",
    "    label1=\"NoDen\",\n",
    "    label2= \"Den\",\n",
    "    title=\"Comparison of IBLD2 NoDen and Den\",\n",
    "    save_name=\"plots/comparison_IBLD2_NoDen_Den\",\n",
    ")"
   ]
  },
  {
   "cell_type": "code",
   "execution_count": 10,
   "id": "ab766c1c",
   "metadata": {},
   "outputs": [],
   "source": [
    "helper.plot_comparison(\n",
    "    path1=\"data/IBLD2NoDen_no5nA\",\n",
    "    path2=\"data/IBLD2Den_no5nA\",\n",
    "    label1=\"NoDen\",\n",
    "    label2=\"Den\",\n",
    "    title=\"Comparison of IBLD2 NoDen and Den - Excluding 5nA\",\n",
    "    save_name=\"plots/comparison_IBLD2_NoDen_Den_no5nA\",\n",
    ")"
   ]
  },
  {
   "cell_type": "code",
   "execution_count": 11,
   "id": "a5ee00c8",
   "metadata": {},
   "outputs": [],
   "source": [
    "helper.plot_comparison(\n",
    "    path1=\"data/OBLD2NoDenDM\",\n",
    "    path2=\"data/oldNet\",\n",
    "    label1=\"DM\",\n",
    "    label2=\"18305\",\n",
    "    title=\"Comparison of old network and DM\",\n",
    "    save_name=\"plots/comparison_DM_oldNet\",\n",
    ")"
   ]
  },
  {
   "cell_type": "code",
   "execution_count": 12,
   "id": "364bb820",
   "metadata": {},
   "outputs": [],
   "source": [
    "helper.plot_comparison(\n",
    "    path1=\"data/OBLD2NoDenDM_no5nA\",\n",
    "    path2=\"data/oldNet_no5nA\",\n",
    "    label1=\"DM\",\n",
    "    label2=\"18305\",\n",
    "    title=\"Comparison of old network and DM - Excluding 5nA\",\n",
    "    save_name=\"plots/comparison_DM_oldNet_no5nA\",\n",
    ")"
   ]
  },
  {
   "cell_type": "code",
   "execution_count": null,
   "id": "bd0c4b27",
   "metadata": {},
   "outputs": [],
   "source": []
  }
 ],
 "metadata": {
  "kernelspec": {
   "display_name": ".venv",
   "language": "python",
   "name": "python3"
  },
  "language_info": {
   "codemirror_mode": {
    "name": "ipython",
    "version": 3
   },
   "file_extension": ".py",
   "mimetype": "text/x-python",
   "name": "python",
   "nbconvert_exporter": "python",
   "pygments_lexer": "ipython3",
   "version": "3.13.1"
  }
 },
 "nbformat": 4,
 "nbformat_minor": 5
}
